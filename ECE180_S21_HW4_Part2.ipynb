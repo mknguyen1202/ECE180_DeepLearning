{
  "nbformat": 4,
  "nbformat_minor": 0,
  "metadata": {
    "colab": {
      "name": "ECE180-S21-HW4-Part2.ipynb",
      "provenance": [],
      "collapsed_sections": [],
      "authorship_tag": "ABX9TyMEx/bvyMGTq0kd5Kx4FmmG",
      "include_colab_link": true
    },
    "kernelspec": {
      "display_name": "Python 3",
      "name": "python3"
    },
    "language_info": {
      "name": "python"
    }
  },
  "cells": [
    {
      "cell_type": "markdown",
      "metadata": {
        "id": "view-in-github",
        "colab_type": "text"
      },
      "source": [
        "<a href=\"https://colab.research.google.com/github/mknguyen1202/ECE180_DeepLearning/blob/main/ECE180_S21_HW4_Part2.ipynb\" target=\"_parent\"><img src=\"https://colab.research.google.com/assets/colab-badge.svg\" alt=\"Open In Colab\"/></a>"
      ]
    },
    {
      "cell_type": "code",
      "metadata": {
        "colab": {
          "base_uri": "https://localhost:8080/"
        },
        "id": "uB20dLIWuK6j",
        "outputId": "cc586dca-66b0-4f2d-b38d-ab3f3a8cb7d2"
      },
      "source": [
        "## might need to enter authorization code\n",
        "from google.colab import drive\n",
        "drive.mount('/content/drive')"
      ],
      "execution_count": null,
      "outputs": [
        {
          "output_type": "stream",
          "text": [
            "Mounted at /content/drive\n"
          ],
          "name": "stdout"
        }
      ]
    },
    {
      "cell_type": "markdown",
      "metadata": {
        "id": "h0pzmFyQxtb8"
      },
      "source": [
        "First, we get the data from CIFAR."
      ]
    },
    {
      "cell_type": "code",
      "metadata": {
        "colab": {
          "base_uri": "https://localhost:8080/"
        },
        "id": "UrXH7X1TxzbS",
        "outputId": "239688ee-93a3-4bfa-ba0a-f6ad3bbe528a"
      },
      "source": [
        "!wget https://www.cs.toronto.edu/~kriz/cifar-10-python.tar.gz\n",
        "!tar xvzf cifar-10-python.tar.gz"
      ],
      "execution_count": 1,
      "outputs": [
        {
          "output_type": "stream",
          "text": [
            "--2021-05-01 23:16:09--  https://www.cs.toronto.edu/~kriz/cifar-10-python.tar.gz\n",
            "Resolving www.cs.toronto.edu (www.cs.toronto.edu)... 128.100.3.30\n",
            "Connecting to www.cs.toronto.edu (www.cs.toronto.edu)|128.100.3.30|:443... connected.\n",
            "HTTP request sent, awaiting response... 200 OK\n",
            "Length: 170498071 (163M) [application/x-gzip]\n",
            "Saving to: ‘cifar-10-python.tar.gz.1’\n",
            "\n",
            "cifar-10-python.tar 100%[===================>] 162.60M  75.6MB/s    in 2.2s    \n",
            "\n",
            "2021-05-01 23:16:11 (75.6 MB/s) - ‘cifar-10-python.tar.gz.1’ saved [170498071/170498071]\n",
            "\n",
            "cifar-10-batches-py/\n",
            "cifar-10-batches-py/data_batch_4\n",
            "cifar-10-batches-py/readme.html\n",
            "cifar-10-batches-py/test_batch\n",
            "cifar-10-batches-py/data_batch_3\n",
            "cifar-10-batches-py/batches.meta\n",
            "cifar-10-batches-py/data_batch_2\n",
            "cifar-10-batches-py/data_batch_5\n",
            "cifar-10-batches-py/data_batch_1\n"
          ],
          "name": "stdout"
        }
      ]
    },
    {
      "cell_type": "markdown",
      "metadata": {
        "id": "KHnUVt-Lx4nb"
      },
      "source": [
        "Navigate to the data folder"
      ]
    },
    {
      "cell_type": "code",
      "metadata": {
        "colab": {
          "base_uri": "https://localhost:8080/"
        },
        "id": "x5-1Q1hgyBcM",
        "outputId": "2421673b-ce6a-4bb9-fbbe-5eaf41546c18"
      },
      "source": [
        "%cd cifar-10-batches-py/"
      ],
      "execution_count": 2,
      "outputs": [
        {
          "output_type": "stream",
          "text": [
            "/content/cifar-10-batches-py\n"
          ],
          "name": "stdout"
        }
      ]
    },
    {
      "cell_type": "code",
      "metadata": {
        "id": "Bhqk03K51s9x"
      },
      "source": [
        "# import necessary libraries\n",
        "import numpy as np\n",
        "import pickle\n",
        "import matplotlib.pyplot as plt\n",
        "from scipy import stats"
      ],
      "execution_count": 3,
      "outputs": []
    },
    {
      "cell_type": "code",
      "metadata": {
        "id": "vDlhZr-Ozb0J"
      },
      "source": [
        "# Pre-processing the data\n",
        "\n",
        "def load_data(batchname):\n",
        "  with open(batchname, 'rb') as fo:\n",
        "        batch = pickle.load(fo, encoding='bytes')\n",
        "  return np.array(batch[b'labels']), np.array(batch[b'data'].astype('int64'))\n",
        "\n",
        "\n",
        "train_labels, train_data = load_data('data_batch_1')\n",
        "test_labels, test_data = load_data('test_batch')\n",
        "\n",
        "NUMBER_OF_SAMPLES = 1000\n",
        "test_data = test_data[0:NUMBER_OF_SAMPLES]\n",
        "test_labels = test_labels[0:NUMBER_OF_SAMPLES]"
      ],
      "execution_count": 4,
      "outputs": []
    },
    {
      "cell_type": "code",
      "metadata": {
        "id": "6Xbfcchu-A9Z"
      },
      "source": [
        "class KNN:\n",
        "  def __init__(self):\n",
        "    self.predicted = np.empty(NUMBER_OF_SAMPLES) \n",
        "\n",
        "  def fit(self, k, train_data, train_labels, test_data, test_labels):\n",
        "    N = len(test_data)\n",
        "    error = 0\n",
        "    closest_ndxs = np.empty(k)\n",
        "    for i in range(N):\n",
        "      distances = np.sqrt(np.sum((train_data - test_data[i])**2, axis = 1)) # all distances\n",
        "      closest_ndxs = np.argpartition(distances, k)[:k]                      # indices of the k lowest elements)\n",
        "      self.predicted[i] = stats.mode(train_labels[closest_ndxs])[0]         # the most frequent elements\n",
        "      if test_labels[i] != self.predicted[i]:\n",
        "        error += 1\n",
        "    error /= N\n",
        "    return error\n"
      ],
      "execution_count": 10,
      "outputs": []
    },
    {
      "cell_type": "markdown",
      "metadata": {
        "id": "gSsNkaVrEVIb"
      },
      "source": [
        "Run the dataset through the model."
      ]
    },
    {
      "cell_type": "code",
      "metadata": {
        "id": "NOHjiXyFEU0G"
      },
      "source": [
        "\n",
        "model = KNN()\n",
        "ks = [1, 2, 5, 10, 20]\n",
        "errors = [model.fit(k, train_data, train_labels, test_data, test_labels) for k in ks]\n",
        "print(\"The error rate for each k:\")\n",
        "for i in range(len(errors)):\n",
        "  print(f\"k = {ks[i]}: {errors[i]}\")"
      ],
      "execution_count": null,
      "outputs": []
    },
    {
      "cell_type": "markdown",
      "metadata": {
        "id": "hWbwojlOLBIr"
      },
      "source": [
        "b)\n"
      ]
    },
    {
      "cell_type": "code",
      "metadata": {
        "colab": {
          "base_uri": "https://localhost:8080/",
          "height": 295
        },
        "id": "7eTkKKVwLOqw",
        "outputId": "187a4596-a7e0-4371-977b-3fe94dd0f8f4"
      },
      "source": [
        "plt.plot(ks,errors)\n",
        "plt.xlabel('K')\n",
        "plt.ylabel('Error Rate')\n",
        "plt.title('Error Rate vs K')\n",
        "plt.show()"
      ],
      "execution_count": 10,
      "outputs": [
        {
          "output_type": "display_data",
          "data": {
            "image/png": "[encoded data removed]",
            "text/plain": [
              "<Figure size 432x288 with 1 Axes>"
            ]
          },
          "metadata": {
            "tags": [],
            "needs_background": "light"
          }
        }
      ]
    },
    {
      "cell_type": "code",
      "metadata": {
        "id": "GfH20XMvL-LB"
      },
      "source": [
        "labels = ['Airplane', 'Automobile', 'Bird', 'Cat', 'Deer', 'Dog', 'Frog', 'Horse', 'Ship', 'Truck']\n",
        "model = KNN()\n",
        "for i in range(len(labels)):\n",
        "  \n"
      ],
      "execution_count": null,
      "outputs": []
    }
  ]
}